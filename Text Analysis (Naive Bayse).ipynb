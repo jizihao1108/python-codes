{
 "cells": [
  {
   "cell_type": "code",
   "execution_count": 202,
   "metadata": {
    "collapsed": true
   },
   "outputs": [],
   "source": [
    "%matplotlib inline\n",
    "import numpy as np\n",
    "import scipy as sp\n",
    "import matplotlib as mpl\n",
    "import matplotlib.cm as cm\n",
    "import matplotlib.pyplot as plt\n",
    "import pandas as pd\n",
    "pd.set_option('display.width', 500)\n",
    "pd.set_option('display.max_columns', 100)\n",
    "pd.set_option('display.notebook_repr_html', True)\n",
    "import seaborn as sns\n",
    "sns.set_style(\"whitegrid\")\n",
    "sns.set_context(\"poster\")"
   ]
  },
  {
   "cell_type": "code",
   "execution_count": 244,
   "metadata": {
    "collapsed": false
   },
   "outputs": [
    {
     "data": {
      "text/html": [
       "<div>\n",
       "<table border=\"1\" class=\"dataframe\">\n",
       "  <thead>\n",
       "    <tr style=\"text-align: right;\">\n",
       "      <th></th>\n",
       "      <th>critic</th>\n",
       "      <th>fresh</th>\n",
       "      <th>imdb</th>\n",
       "      <th>publication</th>\n",
       "      <th>quote</th>\n",
       "      <th>review_date</th>\n",
       "      <th>rtid</th>\n",
       "      <th>title</th>\n",
       "    </tr>\n",
       "  </thead>\n",
       "  <tbody>\n",
       "    <tr>\n",
       "      <th>1</th>\n",
       "      <td>Derek Adams</td>\n",
       "      <td>fresh</td>\n",
       "      <td>114709</td>\n",
       "      <td>Time Out</td>\n",
       "      <td>So ingenious in concept, design and execution ...</td>\n",
       "      <td>2009-10-04</td>\n",
       "      <td>9559</td>\n",
       "      <td>Toy story</td>\n",
       "    </tr>\n",
       "    <tr>\n",
       "      <th>2</th>\n",
       "      <td>Richard Corliss</td>\n",
       "      <td>fresh</td>\n",
       "      <td>114709</td>\n",
       "      <td>TIME Magazine</td>\n",
       "      <td>The year's most inventive comedy.</td>\n",
       "      <td>2008-08-31</td>\n",
       "      <td>9559</td>\n",
       "      <td>Toy story</td>\n",
       "    </tr>\n",
       "    <tr>\n",
       "      <th>3</th>\n",
       "      <td>David Ansen</td>\n",
       "      <td>fresh</td>\n",
       "      <td>114709</td>\n",
       "      <td>Newsweek</td>\n",
       "      <td>A winning animated feature that has something ...</td>\n",
       "      <td>2008-08-18</td>\n",
       "      <td>9559</td>\n",
       "      <td>Toy story</td>\n",
       "    </tr>\n",
       "    <tr>\n",
       "      <th>4</th>\n",
       "      <td>Leonard Klady</td>\n",
       "      <td>fresh</td>\n",
       "      <td>114709</td>\n",
       "      <td>Variety</td>\n",
       "      <td>The film sports a provocative and appealing st...</td>\n",
       "      <td>2008-06-09</td>\n",
       "      <td>9559</td>\n",
       "      <td>Toy story</td>\n",
       "    </tr>\n",
       "    <tr>\n",
       "      <th>5</th>\n",
       "      <td>Jonathan Rosenbaum</td>\n",
       "      <td>fresh</td>\n",
       "      <td>114709</td>\n",
       "      <td>Chicago Reader</td>\n",
       "      <td>An entertaining computer-generated, hyperreali...</td>\n",
       "      <td>2008-03-10</td>\n",
       "      <td>9559</td>\n",
       "      <td>Toy story</td>\n",
       "    </tr>\n",
       "  </tbody>\n",
       "</table>\n",
       "</div>"
      ],
      "text/plain": [
       "               critic  fresh    imdb     publication                                              quote review_date  rtid      title\n",
       "1         Derek Adams  fresh  114709        Time Out  So ingenious in concept, design and execution ...  2009-10-04  9559  Toy story\n",
       "2     Richard Corliss  fresh  114709   TIME Magazine                  The year's most inventive comedy.  2008-08-31  9559  Toy story\n",
       "3         David Ansen  fresh  114709        Newsweek  A winning animated feature that has something ...  2008-08-18  9559  Toy story\n",
       "4       Leonard Klady  fresh  114709         Variety  The film sports a provocative and appealing st...  2008-06-09  9559  Toy story\n",
       "5  Jonathan Rosenbaum  fresh  114709  Chicago Reader  An entertaining computer-generated, hyperreali...  2008-03-10  9559  Toy story"
      ]
     },
     "execution_count": 244,
     "metadata": {},
     "output_type": "execute_result"
    }
   ],
   "source": [
    "df = pd.read_csv('dataset/critics.csv')\n",
    "df = df[~df.quote.isnull()]\n",
    "df.head()"
   ]
  },
  {
   "cell_type": "code",
   "execution_count": 245,
   "metadata": {
    "collapsed": false
   },
   "outputs": [
    {
     "name": "stdout",
     "output_type": "stream",
     "text": [
      "Number of quotes: 15561\n",
      "Number of critics: 1921\n",
      "Number of movies: 623\n"
     ]
    }
   ],
   "source": [
    "n_quotes = len(df)\n",
    "n_critics = df.rtid.unique().size\n",
    "n_movie = df.critic.unique().size\n",
    "\n",
    "print('Number of quotes: %d' %(n_quotes))\n",
    "print('Number of critics: %d' %(n_critics))\n",
    "print('Number of movies: %d' %(n_movie))"
   ]
  },
  {
   "cell_type": "code",
   "execution_count": 246,
   "metadata": {
    "collapsed": false
   },
   "outputs": [],
   "source": [
    "y = (df.fresh == 'fresh').values.astype(np.int64)"
   ]
  },
  {
   "cell_type": "markdown",
   "metadata": {},
   "source": [
    "#### Test Bag of Word function in Python"
   ]
  },
  {
   "cell_type": "code",
   "execution_count": 47,
   "metadata": {
    "collapsed": false
   },
   "outputs": [
    {
     "name": "stdout",
     "output_type": "stream",
     "text": [
      "Original Text is:\n",
      " dota too\n",
      "bad dota\n",
      "stupid too\n",
      "\n",
      "transformed text vector is: \n",
      " [[0 1 0 1]\n",
      " [1 1 0 0]\n",
      " [0 0 1 1]]\n",
      "\n",
      "feature names are: \n",
      " ['bad', 'dota', 'stupid', 'too']\n"
     ]
    }
   ],
   "source": [
    "from sklearn.feature_extraction.text import CountVectorizer\n",
    "sample_text = ['dota too', 'bad dota', 'stupid too']\n",
    "print('Original Text is:\\n', '\\n'.join(sample_text))\n",
    "\n",
    "vectorizer = CountVectorizer(min_df = 0)\n",
    "vec = vectorizer.fit_transform(sample_text)\n",
    "vec = vec.toarray()\n",
    "\n",
    "print('')\n",
    "print('transformed text vector is: \\n', vec)\n",
    "\n",
    "print('')\n",
    "print('feature names are: \\n', vectorizer.get_feature_names())"
   ]
  },
  {
   "cell_type": "code",
   "execution_count": 64,
   "metadata": {
    "collapsed": true
   },
   "outputs": [],
   "source": [
    "def make_bow(df, min_score):\n",
    "    vectorizer = CountVectorizer(min_df = min_score)\n",
    "    X = vectorizer.fit_transform(df.quote)\n",
    "    X = X.toarray()\n",
    "    y = (df.fresh == 'fresh').values.astype(np.int64)\n",
    "    \n",
    "    return X,y    "
   ]
  },
  {
   "cell_type": "code",
   "execution_count": 95,
   "metadata": {
    "collapsed": false
   },
   "outputs": [
    {
     "name": "stdout",
     "output_type": "stream",
     "text": [
      "training accuracy: 91.87%\n",
      "training accuracy: 78.00%\n"
     ]
    }
   ],
   "source": [
    "from sklearn.model_selection import train_test_split\n",
    "from sklearn.naive_bayes import MultinomialNB\n",
    "\n",
    "X, y = make_bow(df, 0)\n",
    "xtrain, xtest, ytrain, ytest = train_test_split(X, y, train_size = 0.8, random_state = 66)\n",
    "\n",
    "clf = MultinomialNB()\n",
    "clf.fit(xtrain, ytrain)\n",
    "\n",
    "print('training accuracy: %0.2f%%' %(clf.score(xtrain, ytrain)*100))\n",
    "print('training accuracy: %0.2f%%' %(clf.score(xtest, ytest)*100))"
   ]
  },
  {
   "cell_type": "code",
   "execution_count": 259,
   "metadata": {
    "collapsed": true
   },
   "outputs": [],
   "source": [
    "from sklearn.model_selection import KFold\n",
    "\n",
    "def log_likelihood(clf, x, y):\n",
    "    prob = clf.predict_log_proba(x)\n",
    "    rotten = y == 0\n",
    "    fresh = ~rotten\n",
    "    \n",
    "    return prob[rotten, 0].sum() + prob[fresh, 1].sum()\n",
    "\n",
    "def cv_optimize(clf, x, y, score, n_fold):\n",
    "    \n",
    "    cv_score = 0\n",
    "    kf = KFold(n_splits=n_fold)\n",
    "    for train, valid in kf.split(x):\n",
    "        clf.fit(x[train], y[train])\n",
    "        cv_score += score(clf, x[valid], y[valid])\n",
    "        \n",
    "    return cv_score / n_fold\n",
    "    "
   ]
  },
  {
   "cell_type": "code",
   "execution_count": 134,
   "metadata": {
    "collapsed": false
   },
   "outputs": [],
   "source": [
    "train, test = train_test_split(range(df.shape[0]), train_size = 0.8, random_state = 66)\n",
    "mask = np.zeros(df.shape[0])\n",
    "mask[train] = 1\n",
    "mask = mask == 1"
   ]
  },
  {
   "cell_type": "code",
   "execution_count": 264,
   "metadata": {
    "collapsed": false
   },
   "outputs": [
    {
     "name": "stderr",
     "output_type": "stream",
     "text": [
      "D:\\Anaconda\\lib\\site-packages\\sklearn\\naive_bayes.py:699: RuntimeWarning: divide by zero encountered in log\n",
      "  self.feature_log_prob_ = (np.log(smoothed_fc) -\n"
     ]
    }
   ],
   "source": [
    "alpha = [0, 1, 5, 10, 50]\n",
    "min_dfs = [1e-5, 1e-4, 1e-3, 1e-2, 1e-1]\n",
    "\n",
    "max_score = -np.inf\n",
    "best_alpha = 0\n",
    "best_mindf = 0\n",
    "\n",
    "for a in alpha:\n",
    "    for mindf in min_dfs:\n",
    "        \n",
    "        vectorize = CountVectorizer(min_df = mindf)\n",
    "        X = vectorize.fit_transform(df.quote)\n",
    "        X = X.toarray()\n",
    "        Y = y\n",
    "        \n",
    "        xtrain = X[mask]\n",
    "        ytrain = Y[mask]\n",
    "        \n",
    "        clf = MultinomialNB(alpha = a)\n",
    "\n",
    "        cvscore = cv_optimize(clf, xtrain, ytrain, log_likelihood, 5)\n",
    "        \n",
    "        if cvscore > max_score:\n",
    "            max_score = cvscore\n",
    "            best_alpha, best_mindf = a, mindf\n",
    "            "
   ]
  },
  {
   "cell_type": "code",
   "execution_count": 266,
   "metadata": {
    "collapsed": false
   },
   "outputs": [
    {
     "data": {
      "text/plain": [
       "(-1651.5514694824374, 5, 0.001)"
      ]
     },
     "execution_count": 266,
     "metadata": {},
     "output_type": "execute_result"
    }
   ],
   "source": [
    "cvscore, best_alpha, best_mindf"
   ]
  }
 ],
 "metadata": {
  "kernelspec": {
   "display_name": "Python 3",
   "language": "python",
   "name": "python3"
  },
  "language_info": {
   "codemirror_mode": {
    "name": "ipython",
    "version": 3
   },
   "file_extension": ".py",
   "mimetype": "text/x-python",
   "name": "python",
   "nbconvert_exporter": "python",
   "pygments_lexer": "ipython3",
   "version": "3.6.0"
  }
 },
 "nbformat": 4,
 "nbformat_minor": 2
}
