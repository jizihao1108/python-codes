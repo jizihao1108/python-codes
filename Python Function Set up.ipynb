{
 "cells": [
  {
   "cell_type": "code",
   "execution_count": 5,
   "metadata": {
    "collapsed": true
   },
   "outputs": [],
   "source": [
    "from sklearn.grid_search import GridSearchCV\n",
    "import numpy as np\n",
    "import pandas as pd\n",
    "from sklearn.cross_validation import train_test_split\n",
    "from sklearn.metrics import accuracy_score"
   ]
  },
  {
   "cell_type": "code",
   "execution_count": 2,
   "metadata": {
    "collapsed": true
   },
   "outputs": [],
   "source": [
    "def cv_optimize(clf, parameters, xtrain, ytrain, n_folds = 5):\n",
    "    gs = GridSearchCV(clf, param_grid=parameters, cv = n_folds)\n",
    "    gs.fit(xtrain, ytrain)\n",
    "    \n",
    "    print('Best Parameters', gs.best_params_)\n",
    "    best = gs.best_estimator_\n",
    "    return best"
   ]
  },
  {
   "cell_type": "code",
   "execution_count": 6,
   "metadata": {
    "collapsed": true
   },
   "outputs": [],
   "source": [
    "def do_classify(clf, df, features, target, targetname, parameters, standardize = False, train_size = 0.8):\n",
    "    subdf = df[features]\n",
    "    if standardize:\n",
    "        stdsubdf = (subdf - np.mean(subdf)) / np.std(subdf)\n",
    "    else:\n",
    "        stdsubdf = subdf\n",
    "    X = stdsubdf.values\n",
    "    y = (df[target].values == targetname)*1\n",
    "    xtrain, ytrain, xtest, ytest = train_test_split(X, y, train_size = train_size)\n",
    "    \n",
    "    clf = cv_optimize(clf, parameters, xtrain, ytrain)\n",
    "    clf.fit(xtrain, ytrain)\n",
    "    train_acc = clf.score(xtrain, ytrain)\n",
    "    test_acc = clf.score(xtest, ytest)\n",
    "    \n",
    "    print('Accuracy on training set is: %0.2f%%' % (train_acc*100))\n",
    "    print('Accuracy on training set is: %0.2f%%' % (test_acc*100))\n",
    "    \n",
    "    return clf, xtrain, ytrain, xtest, ytest    "
   ]
  },
  {
   "cell_type": "code",
   "execution_count": 4,
   "metadata": {
    "collapsed": false
   },
   "outputs": [
    {
     "data": {
      "text/plain": [
       "0.0"
      ]
     },
     "execution_count": 4,
     "metadata": {},
     "output_type": "execute_result"
    }
   ],
   "source": []
  },
  {
   "cell_type": "code",
   "execution_count": null,
   "metadata": {
    "collapsed": true
   },
   "outputs": [],
   "source": []
  }
 ],
 "metadata": {
  "kernelspec": {
   "display_name": "Python [default]",
   "language": "python",
   "name": "python3"
  },
  "language_info": {
   "codemirror_mode": {
    "name": "ipython",
    "version": 3
   },
   "file_extension": ".py",
   "mimetype": "text/x-python",
   "name": "python",
   "nbconvert_exporter": "python",
   "pygments_lexer": "ipython3",
   "version": "3.5.2"
  }
 },
 "nbformat": 4,
 "nbformat_minor": 1
}
