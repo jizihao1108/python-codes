{
 "cells": [
  {
   "cell_type": "markdown",
   "metadata": {},
   "source": [
    "## Locate Video Source Link"
   ]
  },
  {
   "cell_type": "code",
   "execution_count": 1,
   "metadata": {
    "collapsed": true
   },
   "outputs": [],
   "source": [
    "import urllib.request  as urllib2 \n",
    "import bs4 #this is beautiful soup"
   ]
  },
  {
   "cell_type": "code",
   "execution_count": 5,
   "metadata": {
    "collapsed": false
   },
   "outputs": [
    {
     "data": {
      "text/plain": [
       "<!DOCTYPE html>\n",
       "<html>\n",
       "<head>\n",
       "<meta content=\"text/html; charset=utf-8;\" http-equiv=\"Content-type\"/>\n",
       "<meta content=\"IE=edge\" http-equiv=\"X-UA-Compatible\"/>\n",
       "<meta content=\"initial-scale=1.0\" name=\"viewport\"/>\n",
       "<title>DCE Video Player</title>\n",
       "<script src=\"javascript/swfobject.js\" type=\"text/javascript\"></script>\n",
       "<script src=\"javascript/base.js\" type=\"text/javascript\"></script>\n",
       "<script src=\"javascript/jquery.js\" type=\"text/javascript\"></script>\n",
       "<script src=\"javascript/lunr.min.js\" type=\"text/javascript\"></script>\n",
       "<!-- DCE additional js start -->\n",
       "<script src=\"mh_dce_resources/js/jquery-ui.min.js\" type=\"text/javascript\"></script>\n",
       "<script src=\"resources/bootstrap/js/bootstrap.min.js\" type=\"text/javascript\"></script>\n",
       "<!-- DCE additional js end -->\n",
       "<!-- DCE adding require back in, UPV uses it to pull in dashjs -->\n",
       "<script src=\"javascript/require.js\" type=\"text/javascript\"></script>\n",
       "<script src=\"javascript/paella_player.js\" type=\"text/javascript\"></script>\n",
       "<script src=\"javascript/app-index.js\" type=\"text/javascript\"></script>\n",
       "<link charset=\"utf-8\" href=\"resources/bootstrap/css/bootstrap.slate.min.css\" media=\"screen\" rel=\"stylesheet\" type=\"text/css\"/>\n",
       "<!-- DCE additional css start -->\n",
       "<link href=\"mh_dce_resources/style/jquery-ui.min.css\" rel=\"stylesheet\" type=\"text/css\"/>\n",
       "<link href=\"resources/style/opencast_cs50.css\" rel=\"stylesheet\" type=\"text/css\"/>\n",
       "<!-- DCE additional css end -->\n",
       "<!-- DCE style_cs50.css as default paellaSkin, also set in config -->\n",
       "<link charset=\"utf-8\" href=\"resources/style/style_cs50.css\" id=\"paellaSkin\" media=\"screen\" rel=\"stylesheet\" title=\"no title\" type=\"text/css\"/>\n",
       "<script>\n",
       "\n",
       "\t\t\t// Sample implementation of the authentication URL callback.\n",
       "\t\t\t// Put the callback name in config.json, auth.authCallbackName\n",
       "\t\t\tfunction authenticationUrl(redirect) {\n",
       "\t\t\t\tredirect = redirect ? \"?redirect=\" + encodeURIComponent(redirect): \"\";\n",
       "\t\t\t\treturn \"https://www.upv.es/auth\" + redirect;\n",
       "\t\t\t}\n",
       "\n",
       "\t\t\t// Sample implementation of the user data callback\n",
       "\t\t\t// Put the callback name in config,json, auth.userDataCallbackName\n",
       "\t\t\tfunction videoData(onSuccess) {\n",
       "\t\t\t\tonSuccess({\n",
       "\t\t\t\t\tpermissions: {\n",
       "\t\t\t\t\t\tcanRead: true,\n",
       "\t\t\t\t\t\tcanContribute: false,\n",
       "\t\t\t\t\t\tcanWrite: false,\n",
       "\t\t\t\t\t\tloadError: false,\n",
       "\t\t\t\t\t\tisAnonymous: true\n",
       "\t\t\t\t\t},\n",
       "\t\t\t\t\tuserData: {\n",
       "\t\t\t\t\t\tusername: 'anonymous',\n",
       "\t\t\t\t\t\tname: 'Anonymous',\n",
       "\t\t\t\t\t\tavatar: 'resources/images/default_avatar.png'\n",
       "\t\t\t\t\t}\n",
       "\t\t\t\t});\n",
       "\t\t\t}\n",
       "\n",
       "\t\t\t// Sample configuration to use this callbacks:\n",
       "\t\t\t/*\n",
       "\n",
       "\t\t\t \"auth\":{\n",
       "\t\t\t \t\"authCallbackName\":\"authenticationUrl\",\n",
       "\t\t\t \t\"userDataCallbackName\":\"videoData\"\n",
       "\t\t\t }\n",
       "\t\t\t */\n",
       "\t\t</script>\n",
       "</head>\n",
       "<body id=\"body\" onload=\"loadOpencastPaellaDCE('playerContainer');;\">\n",
       "<div id=\"playerContainer\" style=\"display:block;width:100%\">\n",
       "</div>\n",
       "</body>\n",
       "</html>"
      ]
     },
     "execution_count": 5,
     "metadata": {},
     "output_type": "execute_result"
    }
   ],
   "source": [
    "url = \"https://matterhorn.dce.harvard.edu/engage/player/watch.html?id=e15f221c-5275-4f7f-b486-759a7d483bc8\"\n",
    "source = urllib2.urlopen(url).read()\n",
    "bs_tree = bs4.BeautifulSoup(source, 'lxml')\n",
    "bs_tree"
   ]
  },
  {
   "cell_type": "code",
   "execution_count": null,
   "metadata": {
    "collapsed": true
   },
   "outputs": [],
   "source": []
  }
 ],
 "metadata": {
  "anaconda-cloud": {},
  "kernelspec": {
   "display_name": "Python [default]",
   "language": "python",
   "name": "python3"
  },
  "language_info": {
   "codemirror_mode": {
    "name": "ipython",
    "version": 3
   },
   "file_extension": ".py",
   "mimetype": "text/x-python",
   "name": "python",
   "nbconvert_exporter": "python",
   "pygments_lexer": "ipython3",
   "version": "3.5.2"
  }
 },
 "nbformat": 4,
 "nbformat_minor": 1
}
